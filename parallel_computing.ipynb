{
  "nbformat": 4,
  "nbformat_minor": 0,
  "metadata": {
    "colab": {
      "name": "parallel-computing",
      "provenance": [],
      "collapsed_sections": [],
      "authorship_tag": "ABX9TyNLfPtlBp/LkFGTsNQcedkD",
      "include_colab_link": true
    },
    "kernelspec": {
      "name": "python3",
      "display_name": "Python 3"
    },
    "accelerator": "GPU"
  },
  "cells": [
    {
      "cell_type": "markdown",
      "metadata": {
        "id": "view-in-github",
        "colab_type": "text"
      },
      "source": [
        "<a href=\"https://colab.research.google.com/github/sanrajbandre/parallel-computing.github.io/blob/parallel-computing-colab/parallel_computing.ipynb\" target=\"_parent\"><img src=\"https://colab.research.google.com/assets/colab-badge.svg\" alt=\"Open In Colab\"/></a>"
      ]
    },
    {
      "cell_type": "code",
      "metadata": {
        "id": "H1vQnLu3XmHF",
        "colab_type": "code",
        "colab": {
          "base_uri": "https://localhost:8080/",
          "height": 374
        },
        "outputId": "47a91fd2-509a-4d2f-94d9-9be4e43d6655"
      },
      "source": [
        "# DEVICE VERIFICATION\n",
        "\n",
        "!nvidia-smi\n",
        "import pynvml\n",
        "pynvml.nvmlInit()\n",
        "handle = pynvml.nvmlDeviceGetHandleByIndex(0)\n",
        "device_name = pynvml.nvmlDeviceGetName(handle)\n",
        "#if device_name != b'Tesla K80':\n",
        "if device_name != b'Tesla P100-PCIE-16GB':\n",
        "  raise Exception(\"Unfortunately this instance does not have a Tesla K80...!\")\n",
        "else:\n",
        "  print('GPU DEVICE GETS VERIFIED...!')\n",
        "\n"
      ],
      "execution_count": 13,
      "outputs": [
        {
          "output_type": "stream",
          "text": [
            "Fri Jul 10 21:35:14 2020       \n",
            "+-----------------------------------------------------------------------------+\n",
            "| NVIDIA-SMI 450.36.06    Driver Version: 418.67       CUDA Version: 10.1     |\n",
            "|-------------------------------+----------------------+----------------------+\n",
            "| GPU  Name        Persistence-M| Bus-Id        Disp.A | Volatile Uncorr. ECC |\n",
            "| Fan  Temp  Perf  Pwr:Usage/Cap|         Memory-Usage | GPU-Util  Compute M. |\n",
            "|                               |                      |               MIG M. |\n",
            "|===============================+======================+======================|\n",
            "|   0  Tesla P100-PCIE...  Off  | 00000000:00:04.0 Off |                    0 |\n",
            "| N/A   36C    P0    27W / 250W |      0MiB / 16280MiB |      0%      Default |\n",
            "|                               |                      |                 ERR! |\n",
            "+-------------------------------+----------------------+----------------------+\n",
            "                                                                               \n",
            "+-----------------------------------------------------------------------------+\n",
            "| Processes:                                                                  |\n",
            "|  GPU   GI   CI        PID   Type   Process name                  GPU Memory |\n",
            "|        ID   ID                                                   Usage      |\n",
            "|=============================================================================|\n",
            "|  No running processes found                                                 |\n",
            "+-----------------------------------------------------------------------------+\n",
            "GPU DEVICE GETS VERIFIED...!\n"
          ],
          "name": "stdout"
        }
      ]
    },
    {
      "cell_type": "code",
      "metadata": {
        "colab_type": "code",
        "id": "P8EjMdr4ppx8",
        "colab": {
          "base_uri": "https://localhost:8080/",
          "height": 34
        },
        "outputId": "125f6893-2328-489b-b933-844af8c332f2"
      },
      "source": [
        "import pynvml\n",
        "\n",
        "pynvml.nvmlInit()\n",
        "handle = pynvml.nvmlDeviceGetHandleByIndex(0)\n",
        "device_name = pynvml.nvmlDeviceGetName(handle)\n",
        "print(device_name)"
      ],
      "execution_count": null,
      "outputs": [
        {
          "output_type": "stream",
          "text": [
            "b'Tesla P100-PCIE-16GB'\n"
          ],
          "name": "stdout"
        }
      ]
    },
    {
      "cell_type": "code",
      "metadata": {
        "id": "K9nNJiRe5XZe",
        "colab_type": "code",
        "colab": {}
      },
      "source": [
        "# IMPORT \n",
        "import pandas as pd\n",
        "import io\n",
        "from google.colab import files\n",
        "uploaded = files.upload()\n",
        "df = pd.read_csv('demo.csv')\n",
        "df"
      ],
      "execution_count": null,
      "outputs": []
    },
    {
      "cell_type": "code",
      "metadata": {
        "id": "gk4NECYii9kJ",
        "colab_type": "code",
        "colab": {
          "base_uri": "https://localhost:8080/",
          "height": 34
        },
        "outputId": "75c1adc3-3afb-4b8b-9a1c-cfd987250d9e"
      },
      "source": [
        "%%writefile bsql-colab.sh\n",
        "\n",
        "#!/bin/bash\n",
        "\n",
        "\n",
        "set -eu\n",
        "\n",
        "wget -nc https://github.com/rapidsai/notebooks-extended/raw/master/utils/env-check.py\n",
        "echo \"Checking for GPU type:\"\n",
        "python env-check.py\n",
        "\n",
        "if [ ! -f Miniconda3-4.5.4-Linux-x86_64.sh ]; then\n",
        "    echo \"Removing conflicting packages, will replace with RAPIDS compatible versions\"\n",
        "    # remove existing xgboost and dask installs\n",
        "    pip uninstall -y xgboost dask distributed\n",
        "\n",
        "    # intall miniconda\n",
        "    echo \"Installing conda\"\n",
        "    wget https://repo.continuum.io/miniconda/Miniconda3-4.5.4-Linux-x86_64.sh\n",
        "    chmod +x Miniconda3-4.5.4-Linux-x86_64.sh\n",
        "    bash ./Miniconda3-4.5.4-Linux-x86_64.sh -b -f -p /usr/local\n",
        "    \n",
        "    echo \"Installing RAPIDS packages\"\n",
        "    echo \"Please standby, this will take a few minutes...\"\n",
        "    # install RAPIDS packages\n",
        "    conda install -y --prefix /usr/local \\\n",
        "      -c rapidsai/label/xgboost -c rapidsai -c nvidia -c conda-forge \\\n",
        "      python=3.6 cudatoolkit=10.0 \\\n",
        "      cudf=0.9.* cuml=0.9.* cugraph=0.9.* gcsfs pynvml \\\n",
        "      dask-cudf=0.9.* \\\n",
        "      rapidsai/label/xgboost::xgboost=>0.9\n",
        "      \n",
        "    echo \"Copying shared object files to /usr/lib\"\n",
        "    # copy .so files to /usr/lib, where Colab's Python looks for libs\n",
        "    cp /usr/local/lib/libcudf.so /usr/lib/libcudf.so\n",
        "    cp /usr/local/lib/librmm.so /usr/lib/librmm.so\n",
        "    cp /usr/local/lib/libxgboost.so /usr/lib/libxgboost.so\n",
        "    cp /usr/local/lib/libnccl.so /usr/lib/libnccl.so\n",
        "    conda install -y --prefix /usr/local -c rapidsai -c nvidia -c conda-forge -c felipeblazing/label/cuda10.0 python=3.6 cudatoolkit=10.0 blazingsql-ral blazingsql-orchestrator blazingsql-calcite blazingsql-python\n",
        "    pip install flatbuffers\n",
        "fi\n",
        "echo \"\"\n",
        "echo \"*********************************************\"\n",
        "echo \"Your Google Colab instance is RAPIDS ready!\"\n",
        "echo \"*********************************************\"\n",
        "\n",
        "\n",
        "\n",
        "echo \"\"\n",
        "echo \"*********************************************\"\n",
        "echo \"Your Google Colab instance is BlazingSQL ready!\"\n",
        "echo \"*********************************************\""
      ],
      "execution_count": 5,
      "outputs": [
        {
          "output_type": "stream",
          "text": [
            "Overwriting bsql-colab.sh\n"
          ],
          "name": "stdout"
        }
      ]
    },
    {
      "cell_type": "code",
      "metadata": {
        "colab_type": "code",
        "id": "l-INdDu5qY92",
        "colab": {
          "base_uri": "https://localhost:8080/",
          "height": 1000
        },
        "outputId": "1ecba665-1b7c-4026-8b97-c67effaf94f8"
      },
      "source": [
        "! wget https://repo.continuum.io/miniconda/Miniconda3-4.5.4-Linux-x86_64.sh\n",
        "! chmod +x Miniconda3-4.5.4-Linux-x86_64.sh\n",
        "! bash ./Miniconda3-4.5.4-Linux-x86_64.sh -b -f -p /usr/local\n",
        "import sys\n",
        "sys.path.append('/usr/local/lib/python3.6/site-packages/')\n",
        "! conda install -y --prefix /usr/local \\\n",
        "      -c rapidsai/label/xgboost -c rapidsai -c nvidia -c conda-forge \\\n",
        "      python=3.6 cudatoolkit=10.0 \\\n",
        "      cudf=0.9.* cuml=0.9.* cugraph=0.9.* gcsfs pynvml \\\n",
        "      dask-cudf=0.9.* \\\n",
        "      rapidsai/label/xgboost::xgboost=>0.9"
      ],
      "execution_count": null,
      "outputs": [
        {
          "output_type": "stream",
          "text": [
            "--2020-07-11 12:16:01--  https://repo.continuum.io/miniconda/Miniconda3-4.5.4-Linux-x86_64.sh\n",
            "Resolving repo.continuum.io (repo.continuum.io)... 104.18.201.79, 104.18.200.79, 2606:4700::6812:c84f, ...\n",
            "Connecting to repo.continuum.io (repo.continuum.io)|104.18.201.79|:443... connected.\n",
            "HTTP request sent, awaiting response... 301 Moved Permanently\n",
            "Location: https://repo.anaconda.com/miniconda/Miniconda3-4.5.4-Linux-x86_64.sh [following]\n",
            "--2020-07-11 12:16:01--  https://repo.anaconda.com/miniconda/Miniconda3-4.5.4-Linux-x86_64.sh\n",
            "Resolving repo.anaconda.com (repo.anaconda.com)... 104.16.131.3, 104.16.130.3, 2606:4700::6810:8303, ...\n",
            "Connecting to repo.anaconda.com (repo.anaconda.com)|104.16.131.3|:443... connected.\n",
            "HTTP request sent, awaiting response... 200 OK\n",
            "Length: 58468498 (56M) [application/x-sh]\n",
            "Saving to: ‘Miniconda3-4.5.4-Linux-x86_64.sh.1’\n",
            "\n",
            "\r          Miniconda   0%[                    ]       0  --.-KB/s               \r         Miniconda3  50%[=========>          ]  28.14M   141MB/s               \rMiniconda3-4.5.4-Li 100%[===================>]  55.76M   146MB/s    in 0.4s    \n",
            "\n",
            "2020-07-11 12:16:02 (146 MB/s) - ‘Miniconda3-4.5.4-Linux-x86_64.sh.1’ saved [58468498/58468498]\n",
            "\n",
            "PREFIX=/usr/local\n",
            "installing: python-3.6.5-hc3d631a_2 ...\n",
            "Python 3.6.5 :: Anaconda, Inc.\n",
            "installing: ca-certificates-2018.03.07-0 ...\n",
            "installing: conda-env-2.6.0-h36134e3_1 ...\n",
            "installing: libgcc-ng-7.2.0-hdf63c60_3 ...\n",
            "installing: libstdcxx-ng-7.2.0-hdf63c60_3 ...\n",
            "installing: libffi-3.2.1-hd88cf55_4 ...\n",
            "installing: ncurses-6.1-hf484d3e_0 ...\n",
            "installing: openssl-1.0.2o-h20670df_0 ...\n",
            "installing: tk-8.6.7-hc745277_3 ...\n",
            "installing: xz-5.2.4-h14c3975_4 ...\n",
            "installing: yaml-0.1.7-had09818_2 ...\n",
            "installing: zlib-1.2.11-ha838bed_2 ...\n",
            "installing: libedit-3.1.20170329-h6b74fdf_2 ...\n",
            "installing: readline-7.0-ha6073c6_4 ...\n",
            "installing: sqlite-3.23.1-he433501_0 ...\n",
            "installing: asn1crypto-0.24.0-py36_0 ...\n",
            "installing: certifi-2018.4.16-py36_0 ...\n",
            "installing: chardet-3.0.4-py36h0f667ec_1 ...\n",
            "installing: idna-2.6-py36h82fb2a8_1 ...\n",
            "installing: pycosat-0.6.3-py36h0a5515d_0 ...\n",
            "installing: pycparser-2.18-py36hf9f622e_1 ...\n",
            "installing: pysocks-1.6.8-py36_0 ...\n",
            "installing: ruamel_yaml-0.15.37-py36h14c3975_2 ...\n",
            "installing: six-1.11.0-py36h372c433_1 ...\n",
            "installing: cffi-1.11.5-py36h9745a5d_0 ...\n",
            "installing: setuptools-39.2.0-py36_0 ...\n",
            "installing: cryptography-2.2.2-py36h14c3975_0 ...\n",
            "installing: wheel-0.31.1-py36_0 ...\n",
            "installing: pip-10.0.1-py36_0 ...\n",
            "installing: pyopenssl-18.0.0-py36_0 ...\n",
            "installing: urllib3-1.22-py36hbe7ace6_0 ...\n",
            "installing: requests-2.18.4-py36he2e5f8d_1 ...\n",
            "installing: conda-4.5.4-py36_0 ...\n",
            "installation finished.\n",
            "WARNING:\n",
            "    You currently have a PYTHONPATH environment variable set. This may cause\n",
            "    unexpected behavior when running the Python interpreter in Miniconda3.\n",
            "    For best results, please verify that your PYTHONPATH only points to\n",
            "    directories of packages that are compatible with the Python interpreter\n",
            "    in Miniconda3: /usr/local\n"
          ],
          "name": "stdout"
        }
      ]
    },
    {
      "cell_type": "code",
      "metadata": {
        "id": "PqVRXVAcy8vu",
        "colab_type": "code",
        "colab": {}
      },
      "source": [
        ""
      ],
      "execution_count": null,
      "outputs": []
    }
  ]
}